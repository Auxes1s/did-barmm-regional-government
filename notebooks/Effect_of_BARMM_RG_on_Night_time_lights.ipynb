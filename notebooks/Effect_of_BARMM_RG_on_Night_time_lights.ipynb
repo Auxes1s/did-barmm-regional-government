{
  "cells": [
    {
      "cell_type": "markdown",
      "metadata": {
        "id": "vaHa0A503-aV"
      },
      "source": [
        "# 🔬 Research Framework: A Difference-in-Differences Analysis of BARMM\n",
        "\n",
        "This notebook conducts a quasi-experimental impact evaluation to assess the causal effect of the establishment of the **Bangsamoro Autonomous Region in Muslim Mindanao (BARMM)** on local economic activity. We employ a **Difference-in-Differences (DiD)** methodology, leveraging a panel dataset of Night-Time Lights (NTL) from 2011 to 2023.\n",
        "\n",
        "---\n",
        "\n",
        "### ⚙️ The Difference-in-Differences (DiD) Model\n",
        "\n",
        "The DiD model isolates the effect of an intervention by comparing the change in an outcome variable over time between a *treatment group* and a *control group*.\n",
        "\n",
        "> **Key Model Components:**\n",
        "> *   **Treatment Group**: Municipalities within BARMM (`is_barmm == 1`).\n",
        "> *   **Control Group**: A comparable set of municipalities outside BARMM (`is_barmm == 0`).\n",
        "> *   **Intervention (Policy Shock)**: The establishment and inauguration of the BARMM Bangsamoro Transition Authority (BTA), with the \"post-treatment\" period beginning in **2019**.\n",
        "> *   **Outcome Variables**: Proxies for economic activity derived from NTL data:\n",
        ">     *   `_sum`: Total luminosity, a proxy for the magnitude of economic output.\n",
        ">     *   `_mean`: Average luminosity, a proxy for the intensity of economic activity.\n",
        ">     *   `_variance`: Spatial inequality of luminosity within a municipality.\n",
        "\n",
        "The canonical DiD model to be estimated is:\n",
        "\n",
        "$$ Y_{it} = \\beta_0 + \\beta_1 \\text{BARMM}_i + \\beta_2 \\text{Post}_t + \\delta (\\text{BARMM}_i \\times \\text{Post}_t) + \\alpha_i + \\lambda_t + \\epsilon_{it} $$\n",
        "\n",
        "Where:\n",
        "- $ Y_{it} $ is the outcome variable (e.g., `_sum`) for municipality $i$ in year $t$.\n",
        "- $ \\text{BARMM}_i $ is the treatment indicator (1 if the municipality is in BARMM, 0 otherwise).\n",
        "- $ \\text{Post}_t $ is the time indicator (1 for years ≥ 2019, 0 otherwise).\n",
        "- The interaction term coefficient, $ \\delta $, is the **DiD estimator**. It captures the average treatment effect on the treated (ATT).\n",
        "- $ \\alpha_i $ and $ \\lambda_t $ represent municipality and year fixed effects, respectively.\n",
        "\n",
        "---\n",
        "\n",
        "### 🎯 Research Questions\n",
        "\n",
        "Our analysis is guided by a set of hierarchical research questions designed to provide comprehensive insights for policy evaluation.\n",
        "\n",
        "#### **1. Primary Research Question**\n",
        "*   What has been the causal impact of the establishment of the Bangsamoro Autonomous Region in Muslim Mindanao (BARMM) on local economic activity, as measured by changes in night-time light emissions?\n",
        "\n",
        "#### **2. Specific Quantitative Questions**\n",
        "*   📊 **Impact on Economic Output (`_sum`):** Did municipalities within BARMM experience a statistically significant change in total luminosity after 2019 relative to comparable non-BARMM municipalities?\n",
        "*   💡 **Impact on Economic Intensity (`_mean`):** How did the average light intensity in BARMM municipalities change post-2019 compared to the change in non-BARMM municipalities?\n",
        "*   🗺️ **Impact on Spatial Inequality (`_variance`):** Has the establishment of BARMM affected the spatial distribution of economic development within its municipalities, as proxied by the variance of night-time lights?\n",
        "\n",
        "#### **3. Advanced Inquiries: Heterogeneity and Spillovers**\n",
        "*   **Heterogeneity of Effects:** Is the economic impact of BARMM's establishment uniform across all its constituent areas? Do municipalities with different initial conditions (e.g., income class, pre-existing conflict levels) show differential impacts?\n",
        "*   **Spillover Effects:** Are there observable economic spillover effects (positive or negative) on geographically adjacent, non-BARMM municipalities?\n",
        "\n",
        "#### **4. Methodological & Robustness Questions**\n",
        "*   **Parallel Trends Assumption:** In the pre-treatment period (2011-2018), did the trend of night-time light emissions in BARMM municipalities run parallel to the trend in the selected control group?\n",
        "*   **Dynamic Effects:** What is the dynamic, year-on-year impact of the intervention? Did the effect manifest immediately, or has it evolved over the subsequent years?\n",
        "*   **Model Robustness:** How sensitive are the estimated treatment effects to the inclusion of different fixed effects and to the choice of the control group?\n",
        "\n",
        "---\n",
        "### **Reference**\n",
        "*   Wooldridge, J. M. (2010). *Econometric Analysis of Cross Section and Panel Data*. MIT Press.\n"
      ]
    },
    {
      "cell_type": "markdown",
      "metadata": {
        "id": "mr3I-hZj8OzI"
      },
      "source": [
        "-------------------------"
      ]
    },
    {
      "cell_type": "markdown",
      "metadata": {
        "id": "Pvz9LOEQ8L7v"
      },
      "source": [
        "# 1. Introduction: Evaluating a Landmark Policy\n",
        "\n",
        "### **Objective**\n",
        "This analysis evaluates the economic impact of the establishment of the **Bangsamoro Autonomous Region in Muslim Mindanao (BARMM)** in 2019.\n",
        "\n",
        "### **The Challenge: Measuring Economic Activity**\n",
        "In many regions, granular, high-frequency economic data is scarce. To overcome this, we use **Night-Time Lights (NTL)** as a proxy for economic activity. NTL data, captured by satellites, is objective, available at a fine geographic scale, and strongly correlated with GDP, infrastructure development, and electricity consumption.\n",
        "\n",
        "### **Our Approach: A Quasi-Experimental Design**\n",
        "We will employ a **Difference-in-Differences (DiD)** model. This powerful econometric technique allows us to estimate the causal impact of the BARMM intervention by comparing the change in NTL in BARMM municipalities (the \"treatment group\") to the change in similar non-BARMM municipalities (the \"control group\") before and after 2019.\n",
        "Your Instructions:"
      ]
    },
    {
      "cell_type": "markdown",
      "metadata": {
        "id": "xFZUFXWb74JV"
      },
      "source": [
        "### Loading the libraries"
      ]
    },
    {
      "cell_type": "code",
      "execution_count": 1,
      "metadata": {
        "colab": {
          "base_uri": "https://localhost:8080/"
        },
        "id": "OnRK_9SfDoLO",
        "outputId": "a7823142-f7b9-4093-94e7-2b4b31420ba1"
      },
      "outputs": [],
      "source": [
        "# Import necessary libraries\n",
        "import pandas as pd\n",
        "import os\n",
        "import re\n",
        "import numpy as np\n",
        "import matplotlib.pyplot as plt\n",
        "import seaborn as sns\n",
        "import missingno as msno"
      ]
    },
    {
      "cell_type": "markdown",
      "metadata": {
        "id": "1CB132Ep78Ck"
      },
      "source": [
        "### Loading the dataset"
      ]
    },
    {
      "cell_type": "code",
      "execution_count": 2,
      "metadata": {
        "id": "IZjsRSUsEPb-"
      },
      "outputs": [],
      "source": [
        "# In the cell where you define data_directory\n",
        "data_directory = r'C:\\Users\\admin\\Personal Projects\\1 - NTL and BARMM\\data\\NTL Zonal Statistics'\n"
      ]
    },
    {
      "cell_type": "code",
      "execution_count": 3,
      "metadata": {
        "id": "3atjFUpREniz"
      },
      "outputs": [
        {
          "name": "stdout",
          "output_type": "stream",
          "text": [
            "Processing file: zonal_stat_2011_NTL.xlsx\n",
            "Processing file: zonal_stat_2012_NTL.xlsx\n",
            "Processing file: zonal_stat_2013_NTL.xlsx\n",
            "Processing file: zonal_stat_2014_NTL.xlsx\n",
            "Processing file: zonal_stat_2015_NTL.xlsx\n",
            "Processing file: zonal_stat_2016_NTL.xlsx\n",
            "Processing file: zonal_stat_2017_NTL.xlsx\n",
            "Processing file: zonal_stat_2018_NTL.xlsx\n",
            "Processing file: zonal_stat_2019_NTL.xlsx\n",
            "Processing file: zonal_stat_2020_NTL.xlsx\n",
            "Processing file: zonal_stat_2021_NTL.xlsx\n",
            "Processing file: zonal_stat_2022_NTL.xlsx\n",
            "Processing file: zonal_stat_2023_NTL.xlsx\n",
            "\n",
            "--- Consolidated Panel Data (First 5 Rows) ---\n",
            "   psgc_code             name   corr_code geo_level city_class inc_class  \\\n",
            "0  907201000  City of Dapitan  97201000.0      City        NaN        CC   \n",
            "1  907202000  City of Dipolog  97202000.0      City        NaN        CC   \n",
            "2  907203000        Katipunan  97203000.0       Mun        NaN       NaN   \n",
            "3  907204000      La Libertad  97204000.0       Mun        NaN       NaN   \n",
            "4  907205000          Labason  97205000.0       Mun        NaN       NaN   \n",
            "\n",
            "  urb_rur  pop_2015 pop_2020 status  ... shape_len shape_area  shape_sqkm  \\\n",
            "0     3rd       NaN      NaN    NaN  ...  1.476827   0.018092  220.258804   \n",
            "1     3rd       NaN      NaN    NaN  ...  0.924838   0.009737  118.568691   \n",
            "2     2nd       NaN      NaN    NaN  ...  0.830275   0.019114  232.816361   \n",
            "3     5th       NaN      NaN    NaN  ...  0.441360   0.004504   54.852191   \n",
            "4     3rd       NaN      NaN    NaN  ...  0.692414   0.013087  159.548987   \n",
            "\n",
            "   _count        _sum     _mean  _min       _max  _variance  year  \n",
            "0  1043.0  121.617922  0.116604   0.0  18.060593   1.241378  2011  \n",
            "1   567.0  158.542016  0.279616   0.0  14.429671   2.004617  2011  \n",
            "2  1104.0    0.000000  0.000000   0.0   0.000000   0.000000  2011  \n",
            "3   265.0    0.000000  0.000000   0.0   0.000000   0.000000  2011  \n",
            "4   757.0    0.000000  0.000000   0.0   0.000000   0.000000  2011  \n",
            "\n",
            "[5 rows x 26 columns]\n",
            "\n",
            "--- Consolidated Panel Data (Last 5 Rows) ---\n",
            "       psgc_code                 name  corr_code geo_level city_class  \\\n",
            "6014  1999904000  Midsayap Cluster II        NaN       SGU        NaN   \n",
            "6015  1999905000   Pigcawayan Cluster        NaN       SGU        NaN   \n",
            "6016  1999906000      Pikit Cluster I        NaN       SGU        NaN   \n",
            "6017  1999907000     Pikit Cluster II        NaN       SGU        NaN   \n",
            "6018  1999908000    Pikit Cluster III        NaN       SGU        NaN   \n",
            "\n",
            "     inc_class urb_rur  pop_2015 pop_2020 status  ... shape_len shape_area  \\\n",
            "6014       NaN     NaN       NaN      NaN    NaN  ...  0.299565   0.004123   \n",
            "6015       NaN     NaN       NaN      NaN    NaN  ...  0.427476   0.003976   \n",
            "6016       NaN     NaN       NaN      NaN    NaN  ...  0.825309   0.004857   \n",
            "6017       NaN     NaN       NaN      NaN    NaN  ...  0.600366   0.006629   \n",
            "6018       NaN     NaN       NaN      NaN    NaN  ...  0.569338   0.004707   \n",
            "\n",
            "     shape_sqkm _count       _sum     _mean  _min      _max  _variance  year  \n",
            "6014  50.379445  238.0   6.392731  0.026860   0.0  2.233287   0.056594  2023  \n",
            "6015  48.560572  228.0   0.000000  0.000000   0.0  0.000000   0.000000  2023  \n",
            "6016  59.337843  274.0  13.407023  0.048931   0.0  2.815672   0.090314  2023  \n",
            "6017  80.999972  376.0   0.000000  0.000000   0.0  0.000000   0.000000  2023  \n",
            "6018  57.516817  271.0   0.000000  0.000000   0.0  0.000000   0.000000  2023  \n",
            "\n",
            "[5 rows x 26 columns]\n",
            "\n",
            "Consolidated DataFrame dimensions: (6019, 26)\n",
            "\n",
            "Successfully saved the consolidated panel data to 'panel_NTL_consolidated.csv'\n"
          ]
        }
      ],
      "source": [
        "# --- 2. Initialization: Prepare a list to hold individual dataframes ---\n",
        "panel_df_list = []\n",
        "\n",
        "# --- 3. File Iteration and Processing ---\n",
        "# Get a list of all files in the specified directory.\n",
        "all_files = os.listdir(data_directory)\n",
        "\n",
        "# Loop through each file in the directory.\n",
        "for file_name in all_files:\n",
        "    # This ensures we only process the relevant Excel files.\n",
        "    if file_name.startswith('zonal_stat_') and file_name.endswith('.xlsx'):\n",
        "\n",
        "        # Print the name of the file being processed for progress tracking.\n",
        "        print(f\"Processing file: {file_name}\")\n",
        "\n",
        "        # --- 3a. Extract the Year from the Filename ---\n",
        "        # Use a regular expression to find the four-digit year in the filename.\n",
        "        # This is a robust way to handle the naming pattern 'zonal_stat_YYYY_NTL.xlsx'.\n",
        "        year_match = re.search(r'(\\d{4})', file_name)\n",
        "\n",
        "        if year_match:\n",
        "            # Extract the year and convert it to an integer.\n",
        "            year = int(year_match.group(1))\n",
        "\n",
        "            # --- 3b. Read the Excel File ---\n",
        "            # Construct the full path to the file.\n",
        "            file_path = os.path.join(data_directory, file_name)\n",
        "\n",
        "            # Read the Excel file into a pandas DataFrame.\n",
        "            temp_df = pd.read_excel(file_path)\n",
        "\n",
        "            # --- 3c. Add the Year Column ---\n",
        "            # Create a new 'year' column and assign the extracted year to all rows.\n",
        "            # This is the key step in creating the time dimension for the panel.\n",
        "            temp_df['year'] = year\n",
        "\n",
        "            # --- 3d. Append the DataFrame to the list ---\n",
        "            # Add the processed dataframe for the current year to our list.\n",
        "            panel_df_list.append(temp_df)\n",
        "        else:\n",
        "            print(f\"Warning: Could not extract year from filename: {file_name}\")\n",
        "\n",
        "# --- 4. Consolidation: Combine all DataFrames into a single panel ---\n",
        "# Check if any files were processed before attempting to concatenate.\n",
        "if panel_df_list:\n",
        "    # Concatenate all dataframes in the list into one.\n",
        "    # `ignore_index=True` resets the index of the resulting dataframe.\n",
        "    consolidated_panel_df = pd.concat(panel_df_list, ignore_index=True)\n",
        "\n",
        "    # --- 5. Verification and Output ---\n",
        "    # Display the first few rows of the final panel dataframe to verify the result.\n",
        "    print(\"\\n--- Consolidated Panel Data (First 5 Rows) ---\")\n",
        "    print(consolidated_panel_df.head())\n",
        "\n",
        "    # Display the last few rows to see the most recent year.\n",
        "    print(\"\\n--- Consolidated Panel Data (Last 5 Rows) ---\")\n",
        "    print(consolidated_panel_df.tail())\n",
        "\n",
        "    # Display the dimensions (rows, columns) of the final dataframe.\n",
        "    print(f\"\\nConsolidated DataFrame dimensions: {consolidated_panel_df.shape}\")\n",
        "\n",
        "    # --- 6. Save the Result ---\n",
        "    # Save the consolidated panel dataframe to a CSV file for future use.\n",
        "    # CSV is a standard and efficient format for econometric software.\n",
        "    output_filename = 'panel_NTL_consolidated.csv'\n",
        "    consolidated_panel_df.to_csv(output_filename, index=False)\n",
        "    print(f\"\\nSuccessfully saved the consolidated panel data to '{output_filename}'\")\n",
        "\n",
        "else:\n",
        "    print(\"\\nNo matching Excel files were found to process in the specified directory.\")"
      ]
    },
    {
      "cell_type": "code",
      "execution_count": 4,
      "metadata": {
        "id": "vOHGxPHLxtEy"
      },
      "outputs": [],
      "source": [
        "#Rename dataset\n",
        "df = consolidated_panel_df"
      ]
    },
    {
      "cell_type": "code",
      "execution_count": 5,
      "metadata": {
        "id": "GH6sASeVy-eh"
      },
      "outputs": [],
      "source": [
        "#Check if all years are present\n",
        "df.year.unique()\n",
        "\n",
        "#Indicator for BARMM Municipalities\n",
        "df['is_barmm'] = (df['adm1_pcode'] == 'PH19').astype(int)"
      ]
    },
    {
      "cell_type": "code",
      "execution_count": 6,
      "metadata": {
        "colab": {
          "base_uri": "https://localhost:8080/",
          "height": 308
        },
        "id": "zKA_VD3080T8",
        "outputId": "777bae5b-bec5-4e3e-b004-27d882583fe1"
      },
      "outputs": [
        {
          "data": {
            "application/vnd.microsoft.datawrangler.viewer.v0+json": {
              "columns": [
                {
                  "name": "index",
                  "rawType": "int64",
                  "type": "integer"
                },
                {
                  "name": "psgc_code",
                  "rawType": "int64",
                  "type": "integer"
                },
                {
                  "name": "name",
                  "rawType": "object",
                  "type": "string"
                },
                {
                  "name": "corr_code",
                  "rawType": "float64",
                  "type": "float"
                },
                {
                  "name": "geo_level",
                  "rawType": "object",
                  "type": "string"
                },
                {
                  "name": "city_class",
                  "rawType": "object",
                  "type": "unknown"
                },
                {
                  "name": "inc_class",
                  "rawType": "object",
                  "type": "unknown"
                },
                {
                  "name": "urb_rur",
                  "rawType": "object",
                  "type": "string"
                },
                {
                  "name": "pop_2015",
                  "rawType": "float64",
                  "type": "float"
                },
                {
                  "name": "pop_2020",
                  "rawType": "object",
                  "type": "unknown"
                },
                {
                  "name": "status",
                  "rawType": "object",
                  "type": "unknown"
                },
                {
                  "name": "adm3_pcode",
                  "rawType": "object",
                  "type": "string"
                },
                {
                  "name": "adm3_en",
                  "rawType": "object",
                  "type": "string"
                },
                {
                  "name": "adm3_alt",
                  "rawType": "object",
                  "type": "unknown"
                },
                {
                  "name": "adm2_pcode",
                  "rawType": "object",
                  "type": "string"
                },
                {
                  "name": "adm1_pcode",
                  "rawType": "object",
                  "type": "string"
                },
                {
                  "name": "adm0_pcode",
                  "rawType": "object",
                  "type": "string"
                },
                {
                  "name": "shape_len",
                  "rawType": "float64",
                  "type": "float"
                },
                {
                  "name": "shape_area",
                  "rawType": "float64",
                  "type": "float"
                },
                {
                  "name": "shape_sqkm",
                  "rawType": "float64",
                  "type": "float"
                },
                {
                  "name": "_count",
                  "rawType": "float64",
                  "type": "float"
                },
                {
                  "name": "_sum",
                  "rawType": "float64",
                  "type": "float"
                },
                {
                  "name": "_mean",
                  "rawType": "float64",
                  "type": "float"
                },
                {
                  "name": "_min",
                  "rawType": "float64",
                  "type": "float"
                },
                {
                  "name": "_max",
                  "rawType": "float64",
                  "type": "float"
                },
                {
                  "name": "_variance",
                  "rawType": "float64",
                  "type": "float"
                },
                {
                  "name": "year",
                  "rawType": "int64",
                  "type": "integer"
                },
                {
                  "name": "is_barmm",
                  "rawType": "int64",
                  "type": "integer"
                }
              ],
              "ref": "38f2bef9-7cbf-411c-990f-15f53d5d1999",
              "rows": [
                [
                  "0",
                  "907201000",
                  "City of Dapitan",
                  "97201000.0",
                  "City",
                  null,
                  "CC",
                  "3rd",
                  null,
                  null,
                  null,
                  "PH0907201",
                  "Dapitan City",
                  null,
                  "PH09072",
                  "PH09",
                  "PH",
                  "1.4768271248",
                  "0.0180917604363",
                  "220.258804178",
                  "1043.0",
                  "121.6179217621684",
                  "0.116603951833335",
                  "0.0",
                  "18.06059265136719",
                  "1.241377956167599",
                  "2011",
                  "0"
                ],
                [
                  "1",
                  "907202000",
                  "City of Dipolog",
                  "97202000.00000001",
                  "City",
                  null,
                  "CC",
                  "3rd",
                  null,
                  null,
                  null,
                  "PH0907202",
                  "Dipolog City (Capital)",
                  null,
                  "PH09072",
                  "PH09",
                  "PH",
                  "0.924838265552",
                  "0.00973688640122",
                  "118.568690865",
                  "567.0",
                  "158.5420155078173",
                  "0.2796155476328347",
                  "0.0",
                  "14.42967128753662",
                  "2.004617491540249",
                  "2011",
                  "0"
                ],
                [
                  "2",
                  "907203000",
                  "Katipunan",
                  "97203000.0",
                  "Mun",
                  null,
                  null,
                  "2nd",
                  null,
                  null,
                  null,
                  "PH0907203",
                  "Katipunan",
                  null,
                  "PH09072",
                  "PH09",
                  "PH",
                  "0.830274664095",
                  "0.0191138239882",
                  "232.81636074",
                  "1104.0",
                  "0.0",
                  "0.0",
                  "0.0",
                  "0.0",
                  "0.0",
                  "2011",
                  "0"
                ],
                [
                  "3",
                  "907204000",
                  "La Libertad",
                  "97204000.0",
                  "Mun",
                  null,
                  null,
                  "5th",
                  null,
                  null,
                  null,
                  "PH0907204",
                  "La Libertad",
                  null,
                  "PH09072",
                  "PH09",
                  "PH",
                  "0.441360066951",
                  "0.00450395737089",
                  "54.8521908862",
                  "265.0",
                  "0.0",
                  "0.0",
                  "0.0",
                  "0.0",
                  "0.0",
                  "2011",
                  "0"
                ],
                [
                  "4",
                  "907205000",
                  "Labason",
                  "97205000.0",
                  "Mun",
                  null,
                  null,
                  "3rd",
                  null,
                  null,
                  null,
                  "PH0907205",
                  "Labason",
                  null,
                  "PH09072",
                  "PH09",
                  "PH",
                  "0.692414439161",
                  "0.0130870151572",
                  "159.548987106",
                  "757.0",
                  "0.0",
                  "0.0",
                  "0.0",
                  "0.0",
                  "0.0",
                  "2011",
                  "0"
                ]
              ],
              "shape": {
                "columns": 27,
                "rows": 5
              }
            },
            "text/html": [
              "<div>\n",
              "<style scoped>\n",
              "    .dataframe tbody tr th:only-of-type {\n",
              "        vertical-align: middle;\n",
              "    }\n",
              "\n",
              "    .dataframe tbody tr th {\n",
              "        vertical-align: top;\n",
              "    }\n",
              "\n",
              "    .dataframe thead th {\n",
              "        text-align: right;\n",
              "    }\n",
              "</style>\n",
              "<table border=\"1\" class=\"dataframe\">\n",
              "  <thead>\n",
              "    <tr style=\"text-align: right;\">\n",
              "      <th></th>\n",
              "      <th>psgc_code</th>\n",
              "      <th>name</th>\n",
              "      <th>corr_code</th>\n",
              "      <th>geo_level</th>\n",
              "      <th>city_class</th>\n",
              "      <th>inc_class</th>\n",
              "      <th>urb_rur</th>\n",
              "      <th>pop_2015</th>\n",
              "      <th>pop_2020</th>\n",
              "      <th>status</th>\n",
              "      <th>...</th>\n",
              "      <th>shape_area</th>\n",
              "      <th>shape_sqkm</th>\n",
              "      <th>_count</th>\n",
              "      <th>_sum</th>\n",
              "      <th>_mean</th>\n",
              "      <th>_min</th>\n",
              "      <th>_max</th>\n",
              "      <th>_variance</th>\n",
              "      <th>year</th>\n",
              "      <th>is_barmm</th>\n",
              "    </tr>\n",
              "  </thead>\n",
              "  <tbody>\n",
              "    <tr>\n",
              "      <th>0</th>\n",
              "      <td>907201000</td>\n",
              "      <td>City of Dapitan</td>\n",
              "      <td>97201000.0</td>\n",
              "      <td>City</td>\n",
              "      <td>NaN</td>\n",
              "      <td>CC</td>\n",
              "      <td>3rd</td>\n",
              "      <td>NaN</td>\n",
              "      <td>NaN</td>\n",
              "      <td>NaN</td>\n",
              "      <td>...</td>\n",
              "      <td>0.018092</td>\n",
              "      <td>220.258804</td>\n",
              "      <td>1043.0</td>\n",
              "      <td>121.617922</td>\n",
              "      <td>0.116604</td>\n",
              "      <td>0.0</td>\n",
              "      <td>18.060593</td>\n",
              "      <td>1.241378</td>\n",
              "      <td>2011</td>\n",
              "      <td>0</td>\n",
              "    </tr>\n",
              "    <tr>\n",
              "      <th>1</th>\n",
              "      <td>907202000</td>\n",
              "      <td>City of Dipolog</td>\n",
              "      <td>97202000.0</td>\n",
              "      <td>City</td>\n",
              "      <td>NaN</td>\n",
              "      <td>CC</td>\n",
              "      <td>3rd</td>\n",
              "      <td>NaN</td>\n",
              "      <td>NaN</td>\n",
              "      <td>NaN</td>\n",
              "      <td>...</td>\n",
              "      <td>0.009737</td>\n",
              "      <td>118.568691</td>\n",
              "      <td>567.0</td>\n",
              "      <td>158.542016</td>\n",
              "      <td>0.279616</td>\n",
              "      <td>0.0</td>\n",
              "      <td>14.429671</td>\n",
              "      <td>2.004617</td>\n",
              "      <td>2011</td>\n",
              "      <td>0</td>\n",
              "    </tr>\n",
              "    <tr>\n",
              "      <th>2</th>\n",
              "      <td>907203000</td>\n",
              "      <td>Katipunan</td>\n",
              "      <td>97203000.0</td>\n",
              "      <td>Mun</td>\n",
              "      <td>NaN</td>\n",
              "      <td>NaN</td>\n",
              "      <td>2nd</td>\n",
              "      <td>NaN</td>\n",
              "      <td>NaN</td>\n",
              "      <td>NaN</td>\n",
              "      <td>...</td>\n",
              "      <td>0.019114</td>\n",
              "      <td>232.816361</td>\n",
              "      <td>1104.0</td>\n",
              "      <td>0.000000</td>\n",
              "      <td>0.000000</td>\n",
              "      <td>0.0</td>\n",
              "      <td>0.000000</td>\n",
              "      <td>0.000000</td>\n",
              "      <td>2011</td>\n",
              "      <td>0</td>\n",
              "    </tr>\n",
              "    <tr>\n",
              "      <th>3</th>\n",
              "      <td>907204000</td>\n",
              "      <td>La Libertad</td>\n",
              "      <td>97204000.0</td>\n",
              "      <td>Mun</td>\n",
              "      <td>NaN</td>\n",
              "      <td>NaN</td>\n",
              "      <td>5th</td>\n",
              "      <td>NaN</td>\n",
              "      <td>NaN</td>\n",
              "      <td>NaN</td>\n",
              "      <td>...</td>\n",
              "      <td>0.004504</td>\n",
              "      <td>54.852191</td>\n",
              "      <td>265.0</td>\n",
              "      <td>0.000000</td>\n",
              "      <td>0.000000</td>\n",
              "      <td>0.0</td>\n",
              "      <td>0.000000</td>\n",
              "      <td>0.000000</td>\n",
              "      <td>2011</td>\n",
              "      <td>0</td>\n",
              "    </tr>\n",
              "    <tr>\n",
              "      <th>4</th>\n",
              "      <td>907205000</td>\n",
              "      <td>Labason</td>\n",
              "      <td>97205000.0</td>\n",
              "      <td>Mun</td>\n",
              "      <td>NaN</td>\n",
              "      <td>NaN</td>\n",
              "      <td>3rd</td>\n",
              "      <td>NaN</td>\n",
              "      <td>NaN</td>\n",
              "      <td>NaN</td>\n",
              "      <td>...</td>\n",
              "      <td>0.013087</td>\n",
              "      <td>159.548987</td>\n",
              "      <td>757.0</td>\n",
              "      <td>0.000000</td>\n",
              "      <td>0.000000</td>\n",
              "      <td>0.0</td>\n",
              "      <td>0.000000</td>\n",
              "      <td>0.000000</td>\n",
              "      <td>2011</td>\n",
              "      <td>0</td>\n",
              "    </tr>\n",
              "  </tbody>\n",
              "</table>\n",
              "<p>5 rows × 27 columns</p>\n",
              "</div>"
            ],
            "text/plain": [
              "   psgc_code             name   corr_code geo_level city_class inc_class  \\\n",
              "0  907201000  City of Dapitan  97201000.0      City        NaN        CC   \n",
              "1  907202000  City of Dipolog  97202000.0      City        NaN        CC   \n",
              "2  907203000        Katipunan  97203000.0       Mun        NaN       NaN   \n",
              "3  907204000      La Libertad  97204000.0       Mun        NaN       NaN   \n",
              "4  907205000          Labason  97205000.0       Mun        NaN       NaN   \n",
              "\n",
              "  urb_rur  pop_2015 pop_2020 status  ... shape_area  shape_sqkm  _count  \\\n",
              "0     3rd       NaN      NaN    NaN  ...   0.018092  220.258804  1043.0   \n",
              "1     3rd       NaN      NaN    NaN  ...   0.009737  118.568691   567.0   \n",
              "2     2nd       NaN      NaN    NaN  ...   0.019114  232.816361  1104.0   \n",
              "3     5th       NaN      NaN    NaN  ...   0.004504   54.852191   265.0   \n",
              "4     3rd       NaN      NaN    NaN  ...   0.013087  159.548987   757.0   \n",
              "\n",
              "         _sum     _mean _min       _max  _variance  year  is_barmm  \n",
              "0  121.617922  0.116604  0.0  18.060593   1.241378  2011         0  \n",
              "1  158.542016  0.279616  0.0  14.429671   2.004617  2011         0  \n",
              "2    0.000000  0.000000  0.0   0.000000   0.000000  2011         0  \n",
              "3    0.000000  0.000000  0.0   0.000000   0.000000  2011         0  \n",
              "4    0.000000  0.000000  0.0   0.000000   0.000000  2011         0  \n",
              "\n",
              "[5 rows x 27 columns]"
            ]
          },
          "execution_count": 6,
          "metadata": {},
          "output_type": "execute_result"
        }
      ],
      "source": [
        "df.head()\n",
        "\n",
        "#pop_2015, pop_2020, stat"
      ]
    },
    {
      "cell_type": "code",
      "execution_count": 7,
      "metadata": {
        "colab": {
          "base_uri": "https://localhost:8080/"
        },
        "id": "hhrLVWTv8wZv",
        "outputId": "742f4ce5-b72f-43f4-e326-1992ef79762d"
      },
      "outputs": [
        {
          "name": "stdout",
          "output_type": "stream",
          "text": [
            "<class 'pandas.core.frame.DataFrame'>\n",
            "RangeIndex: 6019 entries, 0 to 6018\n",
            "Data columns (total 27 columns):\n",
            " #   Column      Non-Null Count  Dtype  \n",
            "---  ------      --------------  -----  \n",
            " 0   psgc_code   6019 non-null   int64  \n",
            " 1   name        6019 non-null   object \n",
            " 2   corr_code   5915 non-null   float64\n",
            " 3   geo_level   6019 non-null   object \n",
            " 4   city_class  455 non-null    object \n",
            " 5   inc_class   429 non-null    object \n",
            " 6   urb_rur     5915 non-null   object \n",
            " 7   pop_2015    0 non-null      float64\n",
            " 8   pop_2020    78 non-null     object \n",
            " 9   status      78 non-null     object \n",
            " 10  adm3_pcode  6019 non-null   object \n",
            " 11  adm3_en     6019 non-null   object \n",
            " 12  adm3_alt    442 non-null    object \n",
            " 13  adm2_pcode  6019 non-null   object \n",
            " 14  adm1_pcode  6019 non-null   object \n",
            " 15  adm0_pcode  6019 non-null   object \n",
            " 16  shape_len   6019 non-null   float64\n",
            " 17  shape_area  6019 non-null   float64\n",
            " 18  shape_sqkm  6019 non-null   float64\n",
            " 19  _count      5556 non-null   float64\n",
            " 20  _sum        6019 non-null   float64\n",
            " 21  _mean       6019 non-null   float64\n",
            " 22  _min        6019 non-null   float64\n",
            " 23  _max        6019 non-null   float64\n",
            " 24  _variance   6019 non-null   float64\n",
            " 25  year        6019 non-null   int64  \n",
            " 26  is_barmm    6019 non-null   int64  \n",
            "dtypes: float64(11), int64(3), object(13)\n",
            "memory usage: 1.2+ MB\n",
            "Data structure: None\n",
            "----------------------------------------\n",
            "Number of rows: 6019\n",
            "----------------------------------------\n",
            "Number of cols: 27\n",
            "----------------------------------------\n",
            "Number of duplicates: 0\n",
            "----------------------------------------\n",
            "Number of missing val: psgc_code        0\n",
            "name             0\n",
            "corr_code      104\n",
            "geo_level        0\n",
            "city_class    5564\n",
            "inc_class     5590\n",
            "urb_rur        104\n",
            "pop_2015      6019\n",
            "pop_2020      5941\n",
            "status        5941\n",
            "adm3_pcode       0\n",
            "adm3_en          0\n",
            "adm3_alt      5577\n",
            "adm2_pcode       0\n",
            "adm1_pcode       0\n",
            "adm0_pcode       0\n",
            "shape_len        0\n",
            "shape_area       0\n",
            "shape_sqkm       0\n",
            "_count         463\n",
            "_sum             0\n",
            "_mean            0\n",
            "_min             0\n",
            "_max             0\n",
            "_variance        0\n",
            "year             0\n",
            "is_barmm         0\n",
            "dtype: int64\n",
            "----------------------------------------\n"
          ]
        }
      ],
      "source": [
        "# Perform exploratory data analysis\n",
        "def eda(df):\n",
        "    data_structure = df.info()\n",
        "    num_rows = df.shape[0]\n",
        "    num_cols = df.shape[1]\n",
        "    duplicates = df.duplicated().sum()\n",
        "    missing_val = df.isna().sum()\n",
        "\n",
        "    print(f\"Data structure: {data_structure}\")\n",
        "    print(\"--\" * 20)\n",
        "    print(f\"Number of rows: {num_rows}\")\n",
        "    print(\"--\" * 20)\n",
        "    print(f\"Number of cols: {num_cols}\")\n",
        "    print(\"--\" * 20)\n",
        "    print(f\"Number of duplicates: {duplicates}\")\n",
        "    print(\"--\" * 20)\n",
        "    print(f\"Number of missing val: {missing_val}\")\n",
        "    print(\"--\" * 20)\n",
        "\n",
        "eda(df)"
      ]
    },
    {
      "cell_type": "code",
      "execution_count": 8,
      "metadata": {},
      "outputs": [
        {
          "data": {
            "application/vnd.microsoft.datawrangler.viewer.v0+json": {
              "columns": [
                {
                  "name": "index",
                  "rawType": "int64",
                  "type": "integer"
                },
                {
                  "name": "psgc_code",
                  "rawType": "int64",
                  "type": "integer"
                }
              ],
              "ref": "e49210ee-43f7-4ffc-8e78-ef694c3029a9",
              "rows": [
                [
                  "0",
                  "907201000"
                ],
                [
                  "1",
                  "907202000"
                ],
                [
                  "2",
                  "907203000"
                ],
                [
                  "3",
                  "907204000"
                ],
                [
                  "4",
                  "907205000"
                ],
                [
                  "5",
                  "907206000"
                ],
                [
                  "6",
                  "907207000"
                ],
                [
                  "7",
                  "907208000"
                ],
                [
                  "8",
                  "907209000"
                ],
                [
                  "9",
                  "907210000"
                ],
                [
                  "10",
                  "907211000"
                ],
                [
                  "11",
                  "907212000"
                ],
                [
                  "12",
                  "907213000"
                ],
                [
                  "13",
                  "907214000"
                ],
                [
                  "14",
                  "907215000"
                ],
                [
                  "15",
                  "907216000"
                ],
                [
                  "16",
                  "907217000"
                ],
                [
                  "17",
                  "907218000"
                ],
                [
                  "18",
                  "907219000"
                ],
                [
                  "19",
                  "907220000"
                ],
                [
                  "20",
                  "907221000"
                ],
                [
                  "21",
                  "907222000"
                ],
                [
                  "22",
                  "907223000"
                ],
                [
                  "23",
                  "907224000"
                ],
                [
                  "24",
                  "907225000"
                ],
                [
                  "25",
                  "907226000"
                ],
                [
                  "26",
                  "907227000"
                ],
                [
                  "27",
                  "907302000"
                ],
                [
                  "28",
                  "907303000"
                ],
                [
                  "29",
                  "907305000"
                ],
                [
                  "30",
                  "907306000"
                ],
                [
                  "31",
                  "907307000"
                ],
                [
                  "32",
                  "907308000"
                ],
                [
                  "33",
                  "907311000"
                ],
                [
                  "34",
                  "907312000"
                ],
                [
                  "35",
                  "907313000"
                ],
                [
                  "36",
                  "907315000"
                ],
                [
                  "37",
                  "907317000"
                ],
                [
                  "38",
                  "907318000"
                ],
                [
                  "39",
                  "907319000"
                ],
                [
                  "40",
                  "907322000"
                ],
                [
                  "41",
                  "907323000"
                ],
                [
                  "42",
                  "907324000"
                ],
                [
                  "43",
                  "907325000"
                ],
                [
                  "44",
                  "907327000"
                ],
                [
                  "45",
                  "907328000"
                ],
                [
                  "46",
                  "907330000"
                ],
                [
                  "47",
                  "907333000"
                ],
                [
                  "48",
                  "907337000"
                ],
                [
                  "49",
                  "907338000"
                ]
              ],
              "shape": {
                "columns": 1,
                "rows": 6019
              }
            },
            "text/plain": [
              "0        907201000\n",
              "1        907202000\n",
              "2        907203000\n",
              "3        907204000\n",
              "4        907205000\n",
              "           ...    \n",
              "6014    1999904000\n",
              "6015    1999905000\n",
              "6016    1999906000\n",
              "6017    1999907000\n",
              "6018    1999908000\n",
              "Name: psgc_code, Length: 6019, dtype: int64"
            ]
          },
          "execution_count": 8,
          "metadata": {},
          "output_type": "execute_result"
        }
      ],
      "source": [
        "df.psgc_code"
      ]
    },
    {
      "cell_type": "code",
      "execution_count": 9,
      "metadata": {
        "colab": {
          "base_uri": "https://localhost:8080/",
          "height": 490
        },
        "id": "xy5dJKXY883V",
        "outputId": "64f780bb-0752-4716-8aae-a0f32b989b26"
      },
      "outputs": [
        {
          "data": {
            "application/vnd.microsoft.datawrangler.viewer.v0+json": {
              "columns": [
                {
                  "name": "psgc_code",
                  "rawType": "int64",
                  "type": "integer"
                },
                {
                  "name": "count",
                  "rawType": "int64",
                  "type": "integer"
                }
              ],
              "ref": "5fca7457-4928-4230-8deb-c48967fa66ec",
              "rows": [
                [
                  "907201000",
                  "13"
                ],
                [
                  "907202000",
                  "13"
                ],
                [
                  "907203000",
                  "13"
                ],
                [
                  "907204000",
                  "13"
                ],
                [
                  "907205000",
                  "13"
                ],
                [
                  "907206000",
                  "13"
                ],
                [
                  "907207000",
                  "13"
                ],
                [
                  "907208000",
                  "13"
                ],
                [
                  "907209000",
                  "13"
                ],
                [
                  "907210000",
                  "13"
                ],
                [
                  "907211000",
                  "13"
                ],
                [
                  "907212000",
                  "13"
                ],
                [
                  "907213000",
                  "13"
                ],
                [
                  "907214000",
                  "13"
                ],
                [
                  "907215000",
                  "13"
                ],
                [
                  "907216000",
                  "13"
                ],
                [
                  "907217000",
                  "13"
                ],
                [
                  "907218000",
                  "13"
                ],
                [
                  "907219000",
                  "13"
                ],
                [
                  "907220000",
                  "13"
                ],
                [
                  "907221000",
                  "13"
                ],
                [
                  "907222000",
                  "13"
                ],
                [
                  "907223000",
                  "13"
                ],
                [
                  "907224000",
                  "13"
                ],
                [
                  "907225000",
                  "13"
                ],
                [
                  "907226000",
                  "13"
                ],
                [
                  "907227000",
                  "13"
                ],
                [
                  "907302000",
                  "13"
                ],
                [
                  "907303000",
                  "13"
                ],
                [
                  "907305000",
                  "13"
                ],
                [
                  "907306000",
                  "13"
                ],
                [
                  "907307000",
                  "13"
                ],
                [
                  "907308000",
                  "13"
                ],
                [
                  "907311000",
                  "13"
                ],
                [
                  "907312000",
                  "13"
                ],
                [
                  "907313000",
                  "13"
                ],
                [
                  "907315000",
                  "13"
                ],
                [
                  "907317000",
                  "13"
                ],
                [
                  "907318000",
                  "13"
                ],
                [
                  "907319000",
                  "13"
                ],
                [
                  "907322000",
                  "13"
                ],
                [
                  "907323000",
                  "13"
                ],
                [
                  "907324000",
                  "13"
                ],
                [
                  "907325000",
                  "13"
                ],
                [
                  "907327000",
                  "13"
                ],
                [
                  "907328000",
                  "13"
                ],
                [
                  "907330000",
                  "13"
                ],
                [
                  "907333000",
                  "13"
                ],
                [
                  "907337000",
                  "13"
                ],
                [
                  "907338000",
                  "13"
                ]
              ],
              "shape": {
                "columns": 1,
                "rows": 463
              }
            },
            "text/plain": [
              "psgc_code\n",
              "907201000     13\n",
              "907202000     13\n",
              "907203000     13\n",
              "907204000     13\n",
              "907205000     13\n",
              "              ..\n",
              "1999904000    13\n",
              "1999905000    13\n",
              "1999906000    13\n",
              "1999907000    13\n",
              "1999908000    13\n",
              "Name: count, Length: 463, dtype: int64"
            ]
          },
          "execution_count": 9,
          "metadata": {},
          "output_type": "execute_result"
        }
      ],
      "source": [
        "#This means that we truly have a panel dataset of 13 time points and 463 municipalities\n",
        "df.psgc_code.value_counts()"
      ]
    },
    {
      "cell_type": "code",
      "execution_count": 10,
      "metadata": {},
      "outputs": [
        {
          "data": {
            "image/png": "[encoded data removed]",
            "text/plain": [
              "<Figure size 1000x500 with 2 Axes>"
            ]
          },
          "metadata": {},
          "output_type": "display_data"
        }
      ],
      "source": [
        "# Visualize missing values\n",
        "msno.matrix(df, figsize =(10,5))\n",
        "plt.show()"
      ]
    },
    {
      "cell_type": "code",
      "execution_count": 11,
      "metadata": {},
      "outputs": [
        {
          "name": "stdout",
          "output_type": "stream",
          "text": [
            "Summary Statistics\n"
          ]
        },
        {
          "data": {
            "application/vnd.microsoft.datawrangler.viewer.v0+json": {
              "columns": [
                {
                  "name": "index",
                  "rawType": "object",
                  "type": "string"
                },
                {
                  "name": "count",
                  "rawType": "float64",
                  "type": "float"
                },
                {
                  "name": "mean",
                  "rawType": "float64",
                  "type": "float"
                },
                {
                  "name": "std",
                  "rawType": "float64",
                  "type": "float"
                },
                {
                  "name": "min",
                  "rawType": "float64",
                  "type": "float"
                },
                {
                  "name": "25%",
                  "rawType": "float64",
                  "type": "float"
                },
                {
                  "name": "50%",
                  "rawType": "float64",
                  "type": "float"
                },
                {
                  "name": "75%",
                  "rawType": "float64",
                  "type": "float"
                },
                {
                  "name": "max",
                  "rawType": "float64",
                  "type": "float"
                }
              ],
              "ref": "53c12570-ef91-4545-91c3-86d539d02819",
              "rows": [
                [
                  "psgc_code",
                  "6019.0",
                  "1365032794.8164146",
                  "399506973.0851378",
                  "907201000.0",
                  "1003518000.0",
                  "1204718000.0",
                  "1900713000.0",
                  "1999908000.0"
                ],
                [
                  "corr_code",
                  "5915.0",
                  "129103753.84615384",
                  "26232944.586047713",
                  "97201000.0",
                  "103515000.0",
                  "124714000.0",
                  "153827000.0",
                  "168507000.0"
                ],
                [
                  "pop_2015",
                  "0.0",
                  null,
                  null,
                  null,
                  null,
                  null,
                  null,
                  null
                ],
                [
                  "shape_len",
                  "6019.0",
                  "0.8456893953475833",
                  "0.5363433841775483",
                  "0.12591961837",
                  "0.513845751592",
                  "0.76421031087",
                  "1.0106871844",
                  "4.71951162577"
                ],
                [
                  "shape_area",
                  "6019.0",
                  "0.017695632292477594",
                  "0.01903815870692353",
                  "0.000245190994754",
                  "0.00552378919176",
                  "0.0114867158557",
                  "0.0230076299589",
                  "0.191718467231"
                ],
                [
                  "shape_sqkm",
                  "6019.0",
                  "215.9135989262341",
                  "232.35227040414674",
                  "3.00169406151",
                  "67.3930608678",
                  "140.308558949",
                  "280.500145226",
                  "2341.42593985"
                ],
                [
                  "_count",
                  "5556.0",
                  "1019.3326133909287",
                  "1097.1333442371467",
                  "13.0",
                  "318.0",
                  "671.0",
                  "1328.0",
                  "11051.0"
                ],
                [
                  "_sum",
                  "6019.0",
                  "93.18262741225954",
                  "648.4313990407725",
                  "0.0",
                  "0.0",
                  "2.544431447982788",
                  "21.774705052375793",
                  "16348.99449598789"
                ],
                [
                  "_mean",
                  "6019.0",
                  "0.07117690513968072",
                  "0.27293523223152016",
                  "0.0",
                  "0.0",
                  "0.003664649156126604",
                  "0.02919529939341189",
                  "4.091411957373986"
                ],
                [
                  "_min",
                  "6019.0",
                  "0.0023804178347241385",
                  "0.06601720012987715",
                  "0.0",
                  "0.0",
                  "0.0",
                  "0.0",
                  "2.381412267684937"
                ],
                [
                  "_max",
                  "6019.0",
                  "3.1659967821901582",
                  "6.626477077261797",
                  "0.0",
                  "0.0",
                  "1.283817052841187",
                  "3.1218132972717285",
                  "91.82682800292969"
                ],
                [
                  "_variance",
                  "6019.0",
                  "0.4108151544712803",
                  "2.25888304487783",
                  "0.0",
                  "0.0",
                  "0.004763407891138221",
                  "0.05789845468317406",
                  "52.4017672865893"
                ],
                [
                  "year",
                  "6019.0",
                  "2017.0",
                  "3.741968246026484",
                  "2011.0",
                  "2014.0",
                  "2017.0",
                  "2020.0",
                  "2023.0"
                ],
                [
                  "is_barmm",
                  "6019.0",
                  "0.27429805615550756",
                  "0.44619694054526376",
                  "0.0",
                  "0.0",
                  "0.0",
                  "1.0",
                  "1.0"
                ]
              ],
              "shape": {
                "columns": 8,
                "rows": 14
              }
            },
            "text/html": [
              "<div>\n",
              "<style scoped>\n",
              "    .dataframe tbody tr th:only-of-type {\n",
              "        vertical-align: middle;\n",
              "    }\n",
              "\n",
              "    .dataframe tbody tr th {\n",
              "        vertical-align: top;\n",
              "    }\n",
              "\n",
              "    .dataframe thead th {\n",
              "        text-align: right;\n",
              "    }\n",
              "</style>\n",
              "<table border=\"1\" class=\"dataframe\">\n",
              "  <thead>\n",
              "    <tr style=\"text-align: right;\">\n",
              "      <th></th>\n",
              "      <th>count</th>\n",
              "      <th>mean</th>\n",
              "      <th>std</th>\n",
              "      <th>min</th>\n",
              "      <th>25%</th>\n",
              "      <th>50%</th>\n",
              "      <th>75%</th>\n",
              "      <th>max</th>\n",
              "    </tr>\n",
              "  </thead>\n",
              "  <tbody>\n",
              "    <tr>\n",
              "      <th>psgc_code</th>\n",
              "      <td>6019.0</td>\n",
              "      <td>1.365033e+09</td>\n",
              "      <td>3.995070e+08</td>\n",
              "      <td>9.072010e+08</td>\n",
              "      <td>1.003518e+09</td>\n",
              "      <td>1.204718e+09</td>\n",
              "      <td>1.900713e+09</td>\n",
              "      <td>1.999908e+09</td>\n",
              "    </tr>\n",
              "    <tr>\n",
              "      <th>corr_code</th>\n",
              "      <td>5915.0</td>\n",
              "      <td>1.291038e+08</td>\n",
              "      <td>2.623294e+07</td>\n",
              "      <td>9.720100e+07</td>\n",
              "      <td>1.035150e+08</td>\n",
              "      <td>1.247140e+08</td>\n",
              "      <td>1.538270e+08</td>\n",
              "      <td>1.685070e+08</td>\n",
              "    </tr>\n",
              "    <tr>\n",
              "      <th>pop_2015</th>\n",
              "      <td>0.0</td>\n",
              "      <td>NaN</td>\n",
              "      <td>NaN</td>\n",
              "      <td>NaN</td>\n",
              "      <td>NaN</td>\n",
              "      <td>NaN</td>\n",
              "      <td>NaN</td>\n",
              "      <td>NaN</td>\n",
              "    </tr>\n",
              "    <tr>\n",
              "      <th>shape_len</th>\n",
              "      <td>6019.0</td>\n",
              "      <td>8.456894e-01</td>\n",
              "      <td>5.363434e-01</td>\n",
              "      <td>1.259196e-01</td>\n",
              "      <td>5.138458e-01</td>\n",
              "      <td>7.642103e-01</td>\n",
              "      <td>1.010687e+00</td>\n",
              "      <td>4.719512e+00</td>\n",
              "    </tr>\n",
              "    <tr>\n",
              "      <th>shape_area</th>\n",
              "      <td>6019.0</td>\n",
              "      <td>1.769563e-02</td>\n",
              "      <td>1.903816e-02</td>\n",
              "      <td>2.451910e-04</td>\n",
              "      <td>5.523789e-03</td>\n",
              "      <td>1.148672e-02</td>\n",
              "      <td>2.300763e-02</td>\n",
              "      <td>1.917185e-01</td>\n",
              "    </tr>\n",
              "    <tr>\n",
              "      <th>shape_sqkm</th>\n",
              "      <td>6019.0</td>\n",
              "      <td>2.159136e+02</td>\n",
              "      <td>2.323523e+02</td>\n",
              "      <td>3.001694e+00</td>\n",
              "      <td>6.739306e+01</td>\n",
              "      <td>1.403086e+02</td>\n",
              "      <td>2.805001e+02</td>\n",
              "      <td>2.341426e+03</td>\n",
              "    </tr>\n",
              "    <tr>\n",
              "      <th>_count</th>\n",
              "      <td>5556.0</td>\n",
              "      <td>1.019333e+03</td>\n",
              "      <td>1.097133e+03</td>\n",
              "      <td>1.300000e+01</td>\n",
              "      <td>3.180000e+02</td>\n",
              "      <td>6.710000e+02</td>\n",
              "      <td>1.328000e+03</td>\n",
              "      <td>1.105100e+04</td>\n",
              "    </tr>\n",
              "    <tr>\n",
              "      <th>_sum</th>\n",
              "      <td>6019.0</td>\n",
              "      <td>9.318263e+01</td>\n",
              "      <td>6.484314e+02</td>\n",
              "      <td>0.000000e+00</td>\n",
              "      <td>0.000000e+00</td>\n",
              "      <td>2.544431e+00</td>\n",
              "      <td>2.177471e+01</td>\n",
              "      <td>1.634899e+04</td>\n",
              "    </tr>\n",
              "    <tr>\n",
              "      <th>_mean</th>\n",
              "      <td>6019.0</td>\n",
              "      <td>7.117691e-02</td>\n",
              "      <td>2.729352e-01</td>\n",
              "      <td>0.000000e+00</td>\n",
              "      <td>0.000000e+00</td>\n",
              "      <td>3.664649e-03</td>\n",
              "      <td>2.919530e-02</td>\n",
              "      <td>4.091412e+00</td>\n",
              "    </tr>\n",
              "    <tr>\n",
              "      <th>_min</th>\n",
              "      <td>6019.0</td>\n",
              "      <td>2.380418e-03</td>\n",
              "      <td>6.601720e-02</td>\n",
              "      <td>0.000000e+00</td>\n",
              "      <td>0.000000e+00</td>\n",
              "      <td>0.000000e+00</td>\n",
              "      <td>0.000000e+00</td>\n",
              "      <td>2.381412e+00</td>\n",
              "    </tr>\n",
              "    <tr>\n",
              "      <th>_max</th>\n",
              "      <td>6019.0</td>\n",
              "      <td>3.165997e+00</td>\n",
              "      <td>6.626477e+00</td>\n",
              "      <td>0.000000e+00</td>\n",
              "      <td>0.000000e+00</td>\n",
              "      <td>1.283817e+00</td>\n",
              "      <td>3.121813e+00</td>\n",
              "      <td>9.182683e+01</td>\n",
              "    </tr>\n",
              "    <tr>\n",
              "      <th>_variance</th>\n",
              "      <td>6019.0</td>\n",
              "      <td>4.108152e-01</td>\n",
              "      <td>2.258883e+00</td>\n",
              "      <td>0.000000e+00</td>\n",
              "      <td>0.000000e+00</td>\n",
              "      <td>4.763408e-03</td>\n",
              "      <td>5.789845e-02</td>\n",
              "      <td>5.240177e+01</td>\n",
              "    </tr>\n",
              "    <tr>\n",
              "      <th>year</th>\n",
              "      <td>6019.0</td>\n",
              "      <td>2.017000e+03</td>\n",
              "      <td>3.741968e+00</td>\n",
              "      <td>2.011000e+03</td>\n",
              "      <td>2.014000e+03</td>\n",
              "      <td>2.017000e+03</td>\n",
              "      <td>2.020000e+03</td>\n",
              "      <td>2.023000e+03</td>\n",
              "    </tr>\n",
              "    <tr>\n",
              "      <th>is_barmm</th>\n",
              "      <td>6019.0</td>\n",
              "      <td>2.742981e-01</td>\n",
              "      <td>4.461969e-01</td>\n",
              "      <td>0.000000e+00</td>\n",
              "      <td>0.000000e+00</td>\n",
              "      <td>0.000000e+00</td>\n",
              "      <td>1.000000e+00</td>\n",
              "      <td>1.000000e+00</td>\n",
              "    </tr>\n",
              "  </tbody>\n",
              "</table>\n",
              "</div>"
            ],
            "text/plain": [
              "             count          mean           std           min           25%  \\\n",
              "psgc_code   6019.0  1.365033e+09  3.995070e+08  9.072010e+08  1.003518e+09   \n",
              "corr_code   5915.0  1.291038e+08  2.623294e+07  9.720100e+07  1.035150e+08   \n",
              "pop_2015       0.0           NaN           NaN           NaN           NaN   \n",
              "shape_len   6019.0  8.456894e-01  5.363434e-01  1.259196e-01  5.138458e-01   \n",
              "shape_area  6019.0  1.769563e-02  1.903816e-02  2.451910e-04  5.523789e-03   \n",
              "shape_sqkm  6019.0  2.159136e+02  2.323523e+02  3.001694e+00  6.739306e+01   \n",
              "_count      5556.0  1.019333e+03  1.097133e+03  1.300000e+01  3.180000e+02   \n",
              "_sum        6019.0  9.318263e+01  6.484314e+02  0.000000e+00  0.000000e+00   \n",
              "_mean       6019.0  7.117691e-02  2.729352e-01  0.000000e+00  0.000000e+00   \n",
              "_min        6019.0  2.380418e-03  6.601720e-02  0.000000e+00  0.000000e+00   \n",
              "_max        6019.0  3.165997e+00  6.626477e+00  0.000000e+00  0.000000e+00   \n",
              "_variance   6019.0  4.108152e-01  2.258883e+00  0.000000e+00  0.000000e+00   \n",
              "year        6019.0  2.017000e+03  3.741968e+00  2.011000e+03  2.014000e+03   \n",
              "is_barmm    6019.0  2.742981e-01  4.461969e-01  0.000000e+00  0.000000e+00   \n",
              "\n",
              "                     50%           75%           max  \n",
              "psgc_code   1.204718e+09  1.900713e+09  1.999908e+09  \n",
              "corr_code   1.247140e+08  1.538270e+08  1.685070e+08  \n",
              "pop_2015             NaN           NaN           NaN  \n",
              "shape_len   7.642103e-01  1.010687e+00  4.719512e+00  \n",
              "shape_area  1.148672e-02  2.300763e-02  1.917185e-01  \n",
              "shape_sqkm  1.403086e+02  2.805001e+02  2.341426e+03  \n",
              "_count      6.710000e+02  1.328000e+03  1.105100e+04  \n",
              "_sum        2.544431e+00  2.177471e+01  1.634899e+04  \n",
              "_mean       3.664649e-03  2.919530e-02  4.091412e+00  \n",
              "_min        0.000000e+00  0.000000e+00  2.381412e+00  \n",
              "_max        1.283817e+00  3.121813e+00  9.182683e+01  \n",
              "_variance   4.763408e-03  5.789845e-02  5.240177e+01  \n",
              "year        2.017000e+03  2.020000e+03  2.023000e+03  \n",
              "is_barmm    0.000000e+00  1.000000e+00  1.000000e+00  "
            ]
          },
          "execution_count": 11,
          "metadata": {},
          "output_type": "execute_result"
        }
      ],
      "source": [
        "# Summary stat\n",
        "statistics = df.describe().T\n",
        "print(\"Summary Statistics\")\n",
        "statistics"
      ]
    },
    {
      "cell_type": "code",
      "execution_count": 12,
      "metadata": {},
      "outputs": [],
      "source": [
        "# Check all unique values\n",
        "def unique_values(df):\n",
        "    for column_name in df.columns:\n",
        "        print(f\"Unique values in: {column_name} column\")\n",
        "        unique_values = df[column_name].unique()\n",
        "        print(unique_values)\n",
        "        print('--' * 20)\n",
        "\n",
        "# Return all unique values for each column\n",
        "# unique_values(df)"
      ]
    },
    {
      "cell_type": "code",
      "execution_count": 13,
      "metadata": {},
      "outputs": [
        {
          "data": {
            "text/plain": [
              "Index(['psgc_code', 'name', 'corr_code', 'geo_level', 'city_class',\n",
              "       'inc_class', 'urb_rur', 'pop_2015', 'pop_2020', 'status', 'adm3_pcode',\n",
              "       'adm3_en', 'adm3_alt', 'adm2_pcode', 'adm1_pcode', 'adm0_pcode',\n",
              "       'shape_len', 'shape_area', 'shape_sqkm', '_count', '_sum', '_mean',\n",
              "       '_min', '_max', '_variance', 'year', 'is_barmm'],\n",
              "      dtype='object')"
            ]
          },
          "execution_count": 13,
          "metadata": {},
          "output_type": "execute_result"
        }
      ],
      "source": [
        "df.columns"
      ]
    },
    {
      "cell_type": "code",
      "execution_count": 14,
      "metadata": {},
      "outputs": [
        {
          "name": "stdout",
          "output_type": "stream",
          "text": [
            "<class 'pandas.core.frame.DataFrame'>\n",
            "RangeIndex: 6019 entries, 0 to 6018\n",
            "Data columns (total 20 columns):\n",
            " #   Column      Non-Null Count  Dtype  \n",
            "---  ------      --------------  -----  \n",
            " 0   psgc_code   6019 non-null   int64  \n",
            " 1   name        6019 non-null   object \n",
            " 2   corr_code   5915 non-null   float64\n",
            " 3   geo_level   6019 non-null   object \n",
            " 4   inc_class   429 non-null    object \n",
            " 5   urb_rur     5915 non-null   object \n",
            " 6   adm3_pcode  6019 non-null   object \n",
            " 7   adm3_en     6019 non-null   object \n",
            " 8   adm1_pcode  6019 non-null   object \n",
            " 9   shape_len   6019 non-null   float64\n",
            " 10  shape_area  6019 non-null   float64\n",
            " 11  shape_sqkm  6019 non-null   float64\n",
            " 12  _count      5556 non-null   float64\n",
            " 13  _sum        6019 non-null   float64\n",
            " 14  _mean       6019 non-null   float64\n",
            " 15  _min        6019 non-null   float64\n",
            " 16  _max        6019 non-null   float64\n",
            " 17  _variance   6019 non-null   float64\n",
            " 18  year        6019 non-null   int64  \n",
            " 19  is_barmm    6019 non-null   int64  \n",
            "dtypes: float64(10), int64(3), object(7)\n",
            "memory usage: 940.6+ KB\n",
            "Data structure: None\n",
            "----------------------------------------\n",
            "Number of rows: 6019\n",
            "----------------------------------------\n",
            "Number of cols: 20\n",
            "----------------------------------------\n",
            "Number of duplicates: 0\n",
            "----------------------------------------\n",
            "Number of missing val: psgc_code        0\n",
            "name             0\n",
            "corr_code      104\n",
            "geo_level        0\n",
            "inc_class     5590\n",
            "urb_rur        104\n",
            "adm3_pcode       0\n",
            "adm3_en          0\n",
            "adm1_pcode       0\n",
            "shape_len        0\n",
            "shape_area       0\n",
            "shape_sqkm       0\n",
            "_count         463\n",
            "_sum             0\n",
            "_mean            0\n",
            "_min             0\n",
            "_max             0\n",
            "_variance        0\n",
            "year             0\n",
            "is_barmm         0\n",
            "dtype: int64\n",
            "----------------------------------------\n"
          ]
        }
      ],
      "source": [
        "df.drop(columns = ['adm0_pcode', 'adm2_pcode', 'adm3_alt', 'pop_2020', 'status', 'pop_2015', 'city_class'], inplace=True, errors='ignore')\n",
        "\n",
        "eda(df)"
      ]
    },
    {
      "cell_type": "markdown",
      "metadata": {
        "id": "bV7Vgplr8mlx"
      },
      "source": [
        "-----------"
      ]
    },
    {
      "cell_type": "markdown",
      "metadata": {
        "id": "mWtU7TU38aky"
      },
      "source": [
        "# 2. Exploratory Data Analysis: Building the Case for DiD\n",
        "\n",
        "### **Objective**\n",
        "Before modeling, we must validate that our treatment and control groups are comparable and that the core assumption of the DiD model—the **parallel trends assumption**—is plausible.\n",
        "\n",
        "#### **2.1. Pre-Intervention Comparison**\n",
        "Are BARMM and non-BARMM municipalities different to begin with? We'll check the average NTL levels *before* the 2019 intervention. If they are different, it confirms that a simple before-and-after comparison would be misleading, justifying the need for a DiD approach.\n",
        "\n",
        "#### **2.2. Visualizing the Parallel Trends Assumption**\n",
        "This is the most critical plot for our showcase. We will plot the average NTL emissions over time for both the BARMM and non-BARMM groups. For our DiD model to be valid, the trend lines for both groups should be roughly parallel **before** the 2019 intervention.\n"
      ]
    },
    {
      "cell_type": "code",
      "execution_count": 22,
      "metadata": {
        "id": "m9VRrTUTGNny"
      },
      "outputs": [
        {
          "ename": "TypeError",
          "evalue": "show() got an unexpected keyword argument 'figsize'",
          "output_type": "error",
          "traceback": [
            "\u001b[31m---------------------------------------------------------------------------\u001b[39m",
            "\u001b[31mTypeError\u001b[39m                                 Traceback (most recent call last)",
            "\u001b[36mCell\u001b[39m\u001b[36m \u001b[39m\u001b[32mIn[22]\u001b[39m\u001b[32m, line 6\u001b[39m\n\u001b[32m      1\u001b[39m \u001b[38;5;66;03m# Plot the outcome for all years and municipalities\u001b[39;00m\n\u001b[32m      2\u001b[39m sns.lineplot(x=\u001b[33m\"\u001b[39m\u001b[33myear\u001b[39m\u001b[33m\"\u001b[39m, y=\u001b[33m\"\u001b[39m\u001b[33m_sum\u001b[39m\u001b[33m\"\u001b[39m,\n\u001b[32m      3\u001b[39m              hue=\u001b[33m\"\u001b[39m\u001b[33madm1_pcode\u001b[39m\u001b[33m\"\u001b[39m,\n\u001b[32m      4\u001b[39m              data=df)\n\u001b[32m----> \u001b[39m\u001b[32m6\u001b[39m \u001b[43mplt\u001b[49m\u001b[43m.\u001b[49m\u001b[43mshow\u001b[49m\u001b[43m(\u001b[49m\u001b[43mfigsize\u001b[49m\u001b[43m \u001b[49m\u001b[43m=\u001b[49m\u001b[43m \u001b[49m\u001b[43m(\u001b[49m\u001b[32;43m4\u001b[39;49m\u001b[43m,\u001b[49m\u001b[32;43m8\u001b[39;49m\u001b[43m)\u001b[49m\u001b[43m)\u001b[49m\n",
            "\u001b[36mFile \u001b[39m\u001b[32mc:\\Users\\admin\\Personal Projects\\1 - NTL and BARMM\\.venv\\Lib\\site-packages\\matplotlib\\pyplot.py:614\u001b[39m, in \u001b[36mshow\u001b[39m\u001b[34m(*args, **kwargs)\u001b[39m\n\u001b[32m    570\u001b[39m \u001b[38;5;250m\u001b[39m\u001b[33;03m\"\"\"\u001b[39;00m\n\u001b[32m    571\u001b[39m \u001b[33;03mDisplay all open figures.\u001b[39;00m\n\u001b[32m    572\u001b[39m \n\u001b[32m   (...)\u001b[39m\u001b[32m    611\u001b[39m \u001b[33;03mexplicitly there.\u001b[39;00m\n\u001b[32m    612\u001b[39m \u001b[33;03m\"\"\"\u001b[39;00m\n\u001b[32m    613\u001b[39m _warn_if_gui_out_of_main_thread()\n\u001b[32m--> \u001b[39m\u001b[32m614\u001b[39m \u001b[38;5;28;01mreturn\u001b[39;00m \u001b[43m_get_backend_mod\u001b[49m\u001b[43m(\u001b[49m\u001b[43m)\u001b[49m\u001b[43m.\u001b[49m\u001b[43mshow\u001b[49m\u001b[43m(\u001b[49m\u001b[43m*\u001b[49m\u001b[43margs\u001b[49m\u001b[43m,\u001b[49m\u001b[43m \u001b[49m\u001b[43m*\u001b[49m\u001b[43m*\u001b[49m\u001b[43mkwargs\u001b[49m\u001b[43m)\u001b[49m\n",
            "\u001b[31mTypeError\u001b[39m: show() got an unexpected keyword argument 'figsize'"
          ]
        },
        {
          "data": {
            "image/png": "[encoded data removed]",
            "text/plain": [
              "<Figure size 640x480 with 1 Axes>"
            ]
          },
          "metadata": {},
          "output_type": "display_data"
        }
      ],
      "source": [
        "# Plot the outcome for all years and municipalities\n",
        "sns.lineplot(x=\"year\", y=\"_sum\",\n",
        "             hue=\"adm1_pcode\",\n",
        "             data=df)\n",
        "\n",
        "plt.show(figsize = (4,8))"
      ]
    },
    {
      "cell_type": "markdown",
      "metadata": {
        "id": "TlnLSETx8n31"
      },
      "source": [
        "----------------"
      ]
    },
    {
      "cell_type": "markdown",
      "metadata": {
        "id": "GACEH7AO8jCG"
      },
      "source": [
        "# 3. Econometric Modeling: Quantifying the Impact\n",
        "\n",
        "### **Objective**\n",
        "We will now estimate the Average Treatment Effect on the Treated (ATT) using a series of regression models. We will build up in complexity to ensure our findings are robust. We use the `statsmodels` library for its R-style regression output, which is standard in econometrics.\n",
        "\n",
        "#### **3.1. Model 1: The Canonical DiD Model**\n",
        "Our first model is the standard DiD specification. The coefficient on the interaction term (`is_barmm * post_treatment`) will be our first estimate of the policy's impact.\n",
        "\n",
        "#### **3.2. Model 2: DiD with Fixed Effects**\n",
        "To improve robustness, we add **municipality fixed effects**. This controls for all time-invariant unobserved characteristics of each municipality (e.g., geography, institutional history, culture), strengthening our claim to a causal estimate.\n",
        "\n",
        "#### **3.3. Model 3: The Event Study (Dynamic DiD Model)**\n",
        "This advanced model unpacks the \"post-treatment\" period to see the effect year-by-year. Did the impact occur immediately? Does it grow or fade over time? This provides a much richer narrative than a single average effect.\n"
      ]
    },
    {
      "cell_type": "code",
      "execution_count": null,
      "metadata": {
        "id": "KwI7Q3GP8jec"
      },
      "outputs": [],
      "source": []
    }
  ],
  "metadata": {
    "colab": {
      "provenance": []
    },
    "kernelspec": {
      "display_name": "night-time-lights-py3.11",
      "language": "python",
      "name": "python3"
    },
    "language_info": {
      "codemirror_mode": {
        "name": "ipython",
        "version": 3
      },
      "file_extension": ".py",
      "mimetype": "text/x-python",
      "name": "python",
      "nbconvert_exporter": "python",
      "pygments_lexer": "ipython3",
      "version": "3.11.0"
    }
  },
  "nbformat": 4,
  "nbformat_minor": 0
}
